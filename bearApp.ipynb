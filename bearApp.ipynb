!pip install voila
!jupyter serverextension enable --sys-prefix voila 

from fastbook import *
from fastai.vision.widgets import *

path = Path()
learn_inf = load_learner(path/'export.pkl')

btn_upload = widgets.FileUpload()

out_pl = widgets.Output()

lbl_pred = widgets.Label()

btn_run = widgets.Button(description='What is it?!')

def on_click_classify(change):
    img = PILImage.create(btn_upload.data[-1])
    out_pl.clear_output()  # erases previous picture
    with out_pl: display(img.to_thumb(128,128))
    pred,pred_idx,probs = learn_inf.predict(img)
    lbl_pred.value = f'Prediction: {pred}; Probability: {probs[pred_idx]:.04f}'

btn_run.on_click(on_click_classify)

VBox([widgets.Label('LOOK AT DAT BEAR!!'), 
      btn_upload, btn_run, out_pl, lbl_pred])
